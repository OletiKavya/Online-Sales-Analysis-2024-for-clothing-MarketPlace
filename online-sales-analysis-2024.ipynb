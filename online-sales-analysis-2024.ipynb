{
 "cells": [
  {
   "cell_type": "code",
   "execution_count": 1,
   "id": "9ace7e4e",
   "metadata": {
    "_cell_guid": "b1076dfc-b9ad-4769-8c92-a6c4dae69d19",
    "_uuid": "8f2839f25d086af736a60e9eeb907d3b93b6e0e5",
    "execution": {
     "iopub.execute_input": "2024-07-01T19:06:27.863384Z",
     "iopub.status.busy": "2024-07-01T19:06:27.862931Z",
     "iopub.status.idle": "2024-07-01T19:06:28.680418Z",
     "shell.execute_reply": "2024-07-01T19:06:28.679306Z"
    },
    "papermill": {
     "duration": 0.827774,
     "end_time": "2024-07-01T19:06:28.682874",
     "exception": false,
     "start_time": "2024-07-01T19:06:27.855100",
     "status": "completed"
    },
    "tags": []
   },
   "outputs": [
    {
     "name": "stdout",
     "output_type": "stream",
     "text": [
      "/kaggle/input/online-sales-dataset-popular-marketplace-data/Online Sales Data.csv\n"
     ]
    }
   ],
   "source": [
    "# This Python 3 environment comes with many helpful analytics libraries installed\n",
    "# It is defined by the kaggle/python Docker image: https://github.com/kaggle/docker-python\n",
    "# For example, here's several helpful packages to load\n",
    "\n",
    "import numpy as np # linear algebra\n",
    "import pandas as pd # data processing, CSV file I/O (e.g. pd.read_csv)\n",
    "\n",
    "# Input data files are available in the read-only \"../input/\" directory\n",
    "# For example, running this (by clicking run or pressing Shift+Enter) will list all files under the input directory\n",
    "\n",
    "import os\n",
    "for dirname, _, filenames in os.walk('/kaggle/input'):\n",
    "    for filename in filenames:\n",
    "        print(os.path.join(dirname, filename))\n",
    "\n",
    "# You can write up to 20GB to the current directory (/kaggle/working/) that gets preserved as output when you create a version using \"Save & Run All\" \n",
    "# You can also write temporary files to /kaggle/temp/, but they won't be saved outside of the current session"
   ]
  },
  {
   "cell_type": "code",
   "execution_count": 2,
   "id": "dbc35cfb",
   "metadata": {
    "execution": {
     "iopub.execute_input": "2024-07-01T19:06:28.695736Z",
     "iopub.status.busy": "2024-07-01T19:06:28.694738Z",
     "iopub.status.idle": "2024-07-01T19:06:28.733612Z",
     "shell.execute_reply": "2024-07-01T19:06:28.732513Z"
    },
    "papermill": {
     "duration": 0.047736,
     "end_time": "2024-07-01T19:06:28.735987",
     "exception": false,
     "start_time": "2024-07-01T19:06:28.688251",
     "status": "completed"
    },
    "tags": []
   },
   "outputs": [
    {
     "data": {
      "text/html": [
       "<div>\n",
       "<style scoped>\n",
       "    .dataframe tbody tr th:only-of-type {\n",
       "        vertical-align: middle;\n",
       "    }\n",
       "\n",
       "    .dataframe tbody tr th {\n",
       "        vertical-align: top;\n",
       "    }\n",
       "\n",
       "    .dataframe thead th {\n",
       "        text-align: right;\n",
       "    }\n",
       "</style>\n",
       "<table border=\"1\" class=\"dataframe\">\n",
       "  <thead>\n",
       "    <tr style=\"text-align: right;\">\n",
       "      <th></th>\n",
       "      <th>Transaction ID</th>\n",
       "      <th>Date</th>\n",
       "      <th>Product Category</th>\n",
       "      <th>Product Name</th>\n",
       "      <th>Units Sold</th>\n",
       "      <th>Unit Price</th>\n",
       "      <th>Total Revenue</th>\n",
       "      <th>Region</th>\n",
       "      <th>Payment Method</th>\n",
       "    </tr>\n",
       "  </thead>\n",
       "  <tbody>\n",
       "    <tr>\n",
       "      <th>0</th>\n",
       "      <td>10001</td>\n",
       "      <td>2024-01-01</td>\n",
       "      <td>Electronics</td>\n",
       "      <td>iPhone 14 Pro</td>\n",
       "      <td>2</td>\n",
       "      <td>999.99</td>\n",
       "      <td>1999.98</td>\n",
       "      <td>North America</td>\n",
       "      <td>Credit Card</td>\n",
       "    </tr>\n",
       "    <tr>\n",
       "      <th>1</th>\n",
       "      <td>10002</td>\n",
       "      <td>2024-01-02</td>\n",
       "      <td>Home Appliances</td>\n",
       "      <td>Dyson V11 Vacuum</td>\n",
       "      <td>1</td>\n",
       "      <td>499.99</td>\n",
       "      <td>499.99</td>\n",
       "      <td>Europe</td>\n",
       "      <td>PayPal</td>\n",
       "    </tr>\n",
       "    <tr>\n",
       "      <th>2</th>\n",
       "      <td>10003</td>\n",
       "      <td>2024-01-03</td>\n",
       "      <td>Clothing</td>\n",
       "      <td>Levi's 501 Jeans</td>\n",
       "      <td>3</td>\n",
       "      <td>69.99</td>\n",
       "      <td>209.97</td>\n",
       "      <td>Asia</td>\n",
       "      <td>Debit Card</td>\n",
       "    </tr>\n",
       "    <tr>\n",
       "      <th>3</th>\n",
       "      <td>10004</td>\n",
       "      <td>2024-01-04</td>\n",
       "      <td>Books</td>\n",
       "      <td>The Da Vinci Code</td>\n",
       "      <td>4</td>\n",
       "      <td>15.99</td>\n",
       "      <td>63.96</td>\n",
       "      <td>North America</td>\n",
       "      <td>Credit Card</td>\n",
       "    </tr>\n",
       "    <tr>\n",
       "      <th>4</th>\n",
       "      <td>10005</td>\n",
       "      <td>2024-01-05</td>\n",
       "      <td>Beauty Products</td>\n",
       "      <td>Neutrogena Skincare Set</td>\n",
       "      <td>1</td>\n",
       "      <td>89.99</td>\n",
       "      <td>89.99</td>\n",
       "      <td>Europe</td>\n",
       "      <td>PayPal</td>\n",
       "    </tr>\n",
       "  </tbody>\n",
       "</table>\n",
       "</div>"
      ],
      "text/plain": [
       "   Transaction ID        Date Product Category             Product Name  \\\n",
       "0           10001  2024-01-01      Electronics            iPhone 14 Pro   \n",
       "1           10002  2024-01-02  Home Appliances         Dyson V11 Vacuum   \n",
       "2           10003  2024-01-03         Clothing         Levi's 501 Jeans   \n",
       "3           10004  2024-01-04            Books        The Da Vinci Code   \n",
       "4           10005  2024-01-05  Beauty Products  Neutrogena Skincare Set   \n",
       "\n",
       "   Units Sold  Unit Price  Total Revenue         Region Payment Method  \n",
       "0           2      999.99        1999.98  North America    Credit Card  \n",
       "1           1      499.99         499.99         Europe         PayPal  \n",
       "2           3       69.99         209.97           Asia     Debit Card  \n",
       "3           4       15.99          63.96  North America    Credit Card  \n",
       "4           1       89.99          89.99         Europe         PayPal  "
      ]
     },
     "execution_count": 2,
     "metadata": {},
     "output_type": "execute_result"
    }
   ],
   "source": [
    "df=pd.read_csv(\"/kaggle/input/online-sales-dataset-popular-marketplace-data/Online Sales Data.csv\")\n",
    "df.head()"
   ]
  },
  {
   "cell_type": "code",
   "execution_count": 3,
   "id": "823fd896",
   "metadata": {
    "execution": {
     "iopub.execute_input": "2024-07-01T19:06:28.748415Z",
     "iopub.status.busy": "2024-07-01T19:06:28.748069Z",
     "iopub.status.idle": "2024-07-01T19:06:28.773920Z",
     "shell.execute_reply": "2024-07-01T19:06:28.772832Z"
    },
    "papermill": {
     "duration": 0.034709,
     "end_time": "2024-07-01T19:06:28.776108",
     "exception": false,
     "start_time": "2024-07-01T19:06:28.741399",
     "status": "completed"
    },
    "tags": []
   },
   "outputs": [
    {
     "data": {
      "text/html": [
       "<div>\n",
       "<style scoped>\n",
       "    .dataframe tbody tr th:only-of-type {\n",
       "        vertical-align: middle;\n",
       "    }\n",
       "\n",
       "    .dataframe tbody tr th {\n",
       "        vertical-align: top;\n",
       "    }\n",
       "\n",
       "    .dataframe thead th {\n",
       "        text-align: right;\n",
       "    }\n",
       "</style>\n",
       "<table border=\"1\" class=\"dataframe\">\n",
       "  <thead>\n",
       "    <tr style=\"text-align: right;\">\n",
       "      <th></th>\n",
       "      <th>Transaction ID</th>\n",
       "      <th>Units Sold</th>\n",
       "      <th>Unit Price</th>\n",
       "      <th>Total Revenue</th>\n",
       "    </tr>\n",
       "  </thead>\n",
       "  <tbody>\n",
       "    <tr>\n",
       "      <th>count</th>\n",
       "      <td>240.00000</td>\n",
       "      <td>240.000000</td>\n",
       "      <td>240.000000</td>\n",
       "      <td>240.000000</td>\n",
       "    </tr>\n",
       "    <tr>\n",
       "      <th>mean</th>\n",
       "      <td>10120.50000</td>\n",
       "      <td>2.158333</td>\n",
       "      <td>236.395583</td>\n",
       "      <td>335.699375</td>\n",
       "    </tr>\n",
       "    <tr>\n",
       "      <th>std</th>\n",
       "      <td>69.42622</td>\n",
       "      <td>1.322454</td>\n",
       "      <td>429.446695</td>\n",
       "      <td>485.804469</td>\n",
       "    </tr>\n",
       "    <tr>\n",
       "      <th>min</th>\n",
       "      <td>10001.00000</td>\n",
       "      <td>1.000000</td>\n",
       "      <td>6.500000</td>\n",
       "      <td>6.500000</td>\n",
       "    </tr>\n",
       "    <tr>\n",
       "      <th>25%</th>\n",
       "      <td>10060.75000</td>\n",
       "      <td>1.000000</td>\n",
       "      <td>29.500000</td>\n",
       "      <td>62.965000</td>\n",
       "    </tr>\n",
       "    <tr>\n",
       "      <th>50%</th>\n",
       "      <td>10120.50000</td>\n",
       "      <td>2.000000</td>\n",
       "      <td>89.990000</td>\n",
       "      <td>179.970000</td>\n",
       "    </tr>\n",
       "    <tr>\n",
       "      <th>75%</th>\n",
       "      <td>10180.25000</td>\n",
       "      <td>3.000000</td>\n",
       "      <td>249.990000</td>\n",
       "      <td>399.225000</td>\n",
       "    </tr>\n",
       "    <tr>\n",
       "      <th>max</th>\n",
       "      <td>10240.00000</td>\n",
       "      <td>10.000000</td>\n",
       "      <td>3899.990000</td>\n",
       "      <td>3899.990000</td>\n",
       "    </tr>\n",
       "  </tbody>\n",
       "</table>\n",
       "</div>"
      ],
      "text/plain": [
       "       Transaction ID  Units Sold   Unit Price  Total Revenue\n",
       "count       240.00000  240.000000   240.000000     240.000000\n",
       "mean      10120.50000    2.158333   236.395583     335.699375\n",
       "std          69.42622    1.322454   429.446695     485.804469\n",
       "min       10001.00000    1.000000     6.500000       6.500000\n",
       "25%       10060.75000    1.000000    29.500000      62.965000\n",
       "50%       10120.50000    2.000000    89.990000     179.970000\n",
       "75%       10180.25000    3.000000   249.990000     399.225000\n",
       "max       10240.00000   10.000000  3899.990000    3899.990000"
      ]
     },
     "execution_count": 3,
     "metadata": {},
     "output_type": "execute_result"
    }
   ],
   "source": [
    "df.describe()"
   ]
  },
  {
   "cell_type": "code",
   "execution_count": 4,
   "id": "2b493b07",
   "metadata": {
    "execution": {
     "iopub.execute_input": "2024-07-01T19:06:28.788678Z",
     "iopub.status.busy": "2024-07-01T19:06:28.788350Z",
     "iopub.status.idle": "2024-07-01T19:06:28.809390Z",
     "shell.execute_reply": "2024-07-01T19:06:28.808009Z"
    },
    "papermill": {
     "duration": 0.029955,
     "end_time": "2024-07-01T19:06:28.811701",
     "exception": false,
     "start_time": "2024-07-01T19:06:28.781746",
     "status": "completed"
    },
    "tags": []
   },
   "outputs": [
    {
     "name": "stdout",
     "output_type": "stream",
     "text": [
      "<class 'pandas.core.frame.DataFrame'>\n",
      "RangeIndex: 240 entries, 0 to 239\n",
      "Data columns (total 9 columns):\n",
      " #   Column            Non-Null Count  Dtype  \n",
      "---  ------            --------------  -----  \n",
      " 0   Transaction ID    240 non-null    int64  \n",
      " 1   Date              240 non-null    object \n",
      " 2   Product Category  240 non-null    object \n",
      " 3   Product Name      240 non-null    object \n",
      " 4   Units Sold        240 non-null    int64  \n",
      " 5   Unit Price        240 non-null    float64\n",
      " 6   Total Revenue     240 non-null    float64\n",
      " 7   Region            240 non-null    object \n",
      " 8   Payment Method    240 non-null    object \n",
      "dtypes: float64(2), int64(2), object(5)\n",
      "memory usage: 17.0+ KB\n"
     ]
    }
   ],
   "source": [
    "df.info()"
   ]
  },
  {
   "cell_type": "code",
   "execution_count": 5,
   "id": "489874c4",
   "metadata": {
    "execution": {
     "iopub.execute_input": "2024-07-01T19:06:28.824828Z",
     "iopub.status.busy": "2024-07-01T19:06:28.824475Z",
     "iopub.status.idle": "2024-07-01T19:06:28.838509Z",
     "shell.execute_reply": "2024-07-01T19:06:28.837558Z"
    },
    "papermill": {
     "duration": 0.02313,
     "end_time": "2024-07-01T19:06:28.840648",
     "exception": false,
     "start_time": "2024-07-01T19:06:28.817518",
     "status": "completed"
    },
    "tags": []
   },
   "outputs": [
    {
     "data": {
      "text/html": [
       "<div>\n",
       "<style scoped>\n",
       "    .dataframe tbody tr th:only-of-type {\n",
       "        vertical-align: middle;\n",
       "    }\n",
       "\n",
       "    .dataframe tbody tr th {\n",
       "        vertical-align: top;\n",
       "    }\n",
       "\n",
       "    .dataframe thead th {\n",
       "        text-align: right;\n",
       "    }\n",
       "</style>\n",
       "<table border=\"1\" class=\"dataframe\">\n",
       "  <thead>\n",
       "    <tr style=\"text-align: right;\">\n",
       "      <th></th>\n",
       "      <th>Transaction ID</th>\n",
       "      <th>Date</th>\n",
       "      <th>Product Category</th>\n",
       "      <th>Product Name</th>\n",
       "      <th>Units Sold</th>\n",
       "      <th>Unit Price</th>\n",
       "      <th>Total Revenue</th>\n",
       "      <th>Region</th>\n",
       "      <th>Payment Method</th>\n",
       "    </tr>\n",
       "  </thead>\n",
       "  <tbody>\n",
       "    <tr>\n",
       "      <th>235</th>\n",
       "      <td>10236</td>\n",
       "      <td>2024-08-23</td>\n",
       "      <td>Home Appliances</td>\n",
       "      <td>Nespresso Vertuo Next Coffee and Espresso Maker</td>\n",
       "      <td>1</td>\n",
       "      <td>159.99</td>\n",
       "      <td>159.99</td>\n",
       "      <td>Europe</td>\n",
       "      <td>PayPal</td>\n",
       "    </tr>\n",
       "    <tr>\n",
       "      <th>236</th>\n",
       "      <td>10237</td>\n",
       "      <td>2024-08-24</td>\n",
       "      <td>Clothing</td>\n",
       "      <td>Nike Air Force 1 Sneakers</td>\n",
       "      <td>3</td>\n",
       "      <td>90.00</td>\n",
       "      <td>270.00</td>\n",
       "      <td>Asia</td>\n",
       "      <td>Debit Card</td>\n",
       "    </tr>\n",
       "    <tr>\n",
       "      <th>237</th>\n",
       "      <td>10238</td>\n",
       "      <td>2024-08-25</td>\n",
       "      <td>Books</td>\n",
       "      <td>The Handmaid's Tale by Margaret Atwood</td>\n",
       "      <td>3</td>\n",
       "      <td>10.99</td>\n",
       "      <td>32.97</td>\n",
       "      <td>North America</td>\n",
       "      <td>Credit Card</td>\n",
       "    </tr>\n",
       "    <tr>\n",
       "      <th>238</th>\n",
       "      <td>10239</td>\n",
       "      <td>2024-08-26</td>\n",
       "      <td>Beauty Products</td>\n",
       "      <td>Sunday Riley Luna Sleeping Night Oil</td>\n",
       "      <td>1</td>\n",
       "      <td>55.00</td>\n",
       "      <td>55.00</td>\n",
       "      <td>Europe</td>\n",
       "      <td>PayPal</td>\n",
       "    </tr>\n",
       "    <tr>\n",
       "      <th>239</th>\n",
       "      <td>10240</td>\n",
       "      <td>2024-08-27</td>\n",
       "      <td>Sports</td>\n",
       "      <td>Yeti Rambler 20 oz Tumbler</td>\n",
       "      <td>2</td>\n",
       "      <td>29.99</td>\n",
       "      <td>59.98</td>\n",
       "      <td>Asia</td>\n",
       "      <td>Credit Card</td>\n",
       "    </tr>\n",
       "  </tbody>\n",
       "</table>\n",
       "</div>"
      ],
      "text/plain": [
       "     Transaction ID        Date Product Category  \\\n",
       "235           10236  2024-08-23  Home Appliances   \n",
       "236           10237  2024-08-24         Clothing   \n",
       "237           10238  2024-08-25            Books   \n",
       "238           10239  2024-08-26  Beauty Products   \n",
       "239           10240  2024-08-27           Sports   \n",
       "\n",
       "                                        Product Name  Units Sold  Unit Price  \\\n",
       "235  Nespresso Vertuo Next Coffee and Espresso Maker           1      159.99   \n",
       "236                        Nike Air Force 1 Sneakers           3       90.00   \n",
       "237           The Handmaid's Tale by Margaret Atwood           3       10.99   \n",
       "238             Sunday Riley Luna Sleeping Night Oil           1       55.00   \n",
       "239                       Yeti Rambler 20 oz Tumbler           2       29.99   \n",
       "\n",
       "     Total Revenue         Region Payment Method  \n",
       "235         159.99         Europe         PayPal  \n",
       "236         270.00           Asia     Debit Card  \n",
       "237          32.97  North America    Credit Card  \n",
       "238          55.00         Europe         PayPal  \n",
       "239          59.98           Asia    Credit Card  "
      ]
     },
     "execution_count": 5,
     "metadata": {},
     "output_type": "execute_result"
    }
   ],
   "source": [
    "df.tail()"
   ]
  },
  {
   "cell_type": "code",
   "execution_count": 6,
   "id": "8b943713",
   "metadata": {
    "execution": {
     "iopub.execute_input": "2024-07-01T19:06:28.854548Z",
     "iopub.status.busy": "2024-07-01T19:06:28.853645Z",
     "iopub.status.idle": "2024-07-01T19:06:28.865128Z",
     "shell.execute_reply": "2024-07-01T19:06:28.863883Z"
    },
    "papermill": {
     "duration": 0.020834,
     "end_time": "2024-07-01T19:06:28.867451",
     "exception": false,
     "start_time": "2024-07-01T19:06:28.846617",
     "status": "completed"
    },
    "tags": []
   },
   "outputs": [
    {
     "data": {
      "text/plain": [
       "Transaction ID                    10103\n",
       "Date                         2024-04-12\n",
       "Product Category            Electronics\n",
       "Product Name        Canon EOS R5 Camera\n",
       "Units Sold                            1\n",
       "Unit Price                      3899.99\n",
       "Total Revenue                   3899.99\n",
       "Region                    North America\n",
       "Payment Method              Credit Card\n",
       "Name: 102, dtype: object"
      ]
     },
     "execution_count": 6,
     "metadata": {},
     "output_type": "execute_result"
    }
   ],
   "source": [
    "#Maximum Revenue\n",
    "df.loc[df['Total Revenue'].idxmax()]"
   ]
  },
  {
   "cell_type": "code",
   "execution_count": 7,
   "id": "9f5505a8",
   "metadata": {
    "execution": {
     "iopub.execute_input": "2024-07-01T19:06:28.881738Z",
     "iopub.status.busy": "2024-07-01T19:06:28.880831Z",
     "iopub.status.idle": "2024-07-01T19:06:28.888536Z",
     "shell.execute_reply": "2024-07-01T19:06:28.887639Z"
    },
    "papermill": {
     "duration": 0.0169,
     "end_time": "2024-07-01T19:06:28.890597",
     "exception": false,
     "start_time": "2024-07-01T19:06:28.873697",
     "status": "completed"
    },
    "tags": []
   },
   "outputs": [
    {
     "data": {
      "text/plain": [
       "Transaction ID                          10063\n",
       "Date                               2024-03-03\n",
       "Product Category                     Clothing\n",
       "Product Name        Hanes ComfortSoft T-Shirt\n",
       "Units Sold                                 10\n",
       "Unit Price                               9.99\n",
       "Total Revenue                            99.9\n",
       "Region                                   Asia\n",
       "Payment Method                     Debit Card\n",
       "Name: 62, dtype: object"
      ]
     },
     "execution_count": 7,
     "metadata": {},
     "output_type": "execute_result"
    }
   ],
   "source": [
    "#Maximum Units Sold\n",
    "df.loc[df['Units Sold'].idxmax()]"
   ]
  },
  {
   "cell_type": "code",
   "execution_count": 8,
   "id": "2d038d0a",
   "metadata": {
    "execution": {
     "iopub.execute_input": "2024-07-01T19:06:28.904897Z",
     "iopub.status.busy": "2024-07-01T19:06:28.904003Z",
     "iopub.status.idle": "2024-07-01T19:06:28.925523Z",
     "shell.execute_reply": "2024-07-01T19:06:28.924577Z"
    },
    "papermill": {
     "duration": 0.030967,
     "end_time": "2024-07-01T19:06:28.927713",
     "exception": false,
     "start_time": "2024-07-01T19:06:28.896746",
     "status": "completed"
    },
    "tags": []
   },
   "outputs": [
    {
     "data": {
      "text/html": [
       "<div>\n",
       "<style scoped>\n",
       "    .dataframe tbody tr th:only-of-type {\n",
       "        vertical-align: middle;\n",
       "    }\n",
       "\n",
       "    .dataframe tbody tr th {\n",
       "        vertical-align: top;\n",
       "    }\n",
       "\n",
       "    .dataframe thead th {\n",
       "        text-align: right;\n",
       "    }\n",
       "</style>\n",
       "<table border=\"1\" class=\"dataframe\">\n",
       "  <thead>\n",
       "    <tr style=\"text-align: right;\">\n",
       "      <th></th>\n",
       "      <th>Units Sold</th>\n",
       "      <th>Unit Price</th>\n",
       "      <th>Total Revenue</th>\n",
       "    </tr>\n",
       "    <tr>\n",
       "      <th>Month</th>\n",
       "      <th></th>\n",
       "      <th></th>\n",
       "      <th></th>\n",
       "    </tr>\n",
       "  </thead>\n",
       "  <tbody>\n",
       "    <tr>\n",
       "      <th>1</th>\n",
       "      <td>2.193548</td>\n",
       "      <td>288.506129</td>\n",
       "      <td>469.300645</td>\n",
       "    </tr>\n",
       "    <tr>\n",
       "      <th>2</th>\n",
       "      <td>2.655172</td>\n",
       "      <td>212.423793</td>\n",
       "      <td>372.530000</td>\n",
       "    </tr>\n",
       "    <tr>\n",
       "      <th>3</th>\n",
       "      <td>2.645161</td>\n",
       "      <td>260.894839</td>\n",
       "      <td>414.491613</td>\n",
       "    </tr>\n",
       "    <tr>\n",
       "      <th>4</th>\n",
       "      <td>2.166667</td>\n",
       "      <td>302.538667</td>\n",
       "      <td>415.056333</td>\n",
       "    </tr>\n",
       "    <tr>\n",
       "      <th>5</th>\n",
       "      <td>1.935484</td>\n",
       "      <td>211.998387</td>\n",
       "      <td>272.757742</td>\n",
       "    </tr>\n",
       "    <tr>\n",
       "      <th>6</th>\n",
       "      <td>2.033333</td>\n",
       "      <td>213.737333</td>\n",
       "      <td>246.151667</td>\n",
       "    </tr>\n",
       "    <tr>\n",
       "      <th>7</th>\n",
       "      <td>1.709677</td>\n",
       "      <td>177.436774</td>\n",
       "      <td>219.260645</td>\n",
       "    </tr>\n",
       "    <tr>\n",
       "      <th>8</th>\n",
       "      <td>1.925926</td>\n",
       "      <td>221.572222</td>\n",
       "      <td>269.559630</td>\n",
       "    </tr>\n",
       "  </tbody>\n",
       "</table>\n",
       "</div>"
      ],
      "text/plain": [
       "       Units Sold  Unit Price  Total Revenue\n",
       "Month                                       \n",
       "1        2.193548  288.506129     469.300645\n",
       "2        2.655172  212.423793     372.530000\n",
       "3        2.645161  260.894839     414.491613\n",
       "4        2.166667  302.538667     415.056333\n",
       "5        1.935484  211.998387     272.757742\n",
       "6        2.033333  213.737333     246.151667\n",
       "7        1.709677  177.436774     219.260645\n",
       "8        1.925926  221.572222     269.559630"
      ]
     },
     "execution_count": 8,
     "metadata": {},
     "output_type": "execute_result"
    }
   ],
   "source": [
    "#Average Monthly Sales Analysis\n",
    "df['Date'] = pd.to_datetime(df['Date'])\n",
    "df['Month'] = df['Date'].dt.month\n",
    "df.groupby('Month').agg({'Units Sold':'mean','Unit Price':'mean','Total Revenue':'mean'})"
   ]
  },
  {
   "cell_type": "code",
   "execution_count": 9,
   "id": "704b9fb9",
   "metadata": {
    "execution": {
     "iopub.execute_input": "2024-07-01T19:06:28.942577Z",
     "iopub.status.busy": "2024-07-01T19:06:28.941547Z",
     "iopub.status.idle": "2024-07-01T19:06:28.951001Z",
     "shell.execute_reply": "2024-07-01T19:06:28.949997Z"
    },
    "papermill": {
     "duration": 0.018961,
     "end_time": "2024-07-01T19:06:28.953148",
     "exception": false,
     "start_time": "2024-07-01T19:06:28.934187",
     "status": "completed"
    },
    "tags": []
   },
   "outputs": [
    {
     "data": {
      "text/plain": [
       "-0.30858262327014113"
      ]
     },
     "execution_count": 9,
     "metadata": {},
     "output_type": "execute_result"
    }
   ],
   "source": [
    "#correlation between the units sold and unit Price\n",
    "x=df['Units Sold'].corr(df['Unit Price'])\n",
    "x"
   ]
  },
  {
   "cell_type": "code",
   "execution_count": 10,
   "id": "a1854011",
   "metadata": {
    "execution": {
     "iopub.execute_input": "2024-07-01T19:06:28.968278Z",
     "iopub.status.busy": "2024-07-01T19:06:28.967444Z",
     "iopub.status.idle": "2024-07-01T19:06:28.973830Z",
     "shell.execute_reply": "2024-07-01T19:06:28.972904Z"
    },
    "papermill": {
     "duration": 0.016103,
     "end_time": "2024-07-01T19:06:28.975897",
     "exception": false,
     "start_time": "2024-07-01T19:06:28.959794",
     "status": "completed"
    },
    "tags": []
   },
   "outputs": [
    {
     "name": "stdout",
     "output_type": "stream",
     "text": [
      "Max Revenue:  North America\n",
      "Min Revenue:  Europe\n"
     ]
    }
   ],
   "source": [
    "#Region that has Maximum Revenue in sales\n",
    "x=df.loc[df['Total Revenue'].idxmax(),'Region']\n",
    "print(\"Max Revenue: \",x)\n",
    "#Region that has Minimum Revenue in Sales\n",
    "y=df.loc[df['Total Revenue'].idxmin(),'Region']\n",
    "print(\"Min Revenue: \",y)"
   ]
  },
  {
   "cell_type": "code",
   "execution_count": 11,
   "id": "48b0a012",
   "metadata": {
    "execution": {
     "iopub.execute_input": "2024-07-01T19:06:28.990726Z",
     "iopub.status.busy": "2024-07-01T19:06:28.990364Z",
     "iopub.status.idle": "2024-07-01T19:06:28.994782Z",
     "shell.execute_reply": "2024-07-01T19:06:28.993788Z"
    },
    "papermill": {
     "duration": 0.01454,
     "end_time": "2024-07-01T19:06:28.996889",
     "exception": false,
     "start_time": "2024-07-01T19:06:28.982349",
     "status": "completed"
    },
    "tags": []
   },
   "outputs": [],
   "source": [
    "import matplotlib.pyplot as plt"
   ]
  },
  {
   "cell_type": "code",
   "execution_count": 12,
   "id": "1bbe4e97",
   "metadata": {
    "execution": {
     "iopub.execute_input": "2024-07-01T19:06:29.012017Z",
     "iopub.status.busy": "2024-07-01T19:06:29.011596Z",
     "iopub.status.idle": "2024-07-01T19:06:29.021387Z",
     "shell.execute_reply": "2024-07-01T19:06:29.020279Z"
    },
    "papermill": {
     "duration": 0.02004,
     "end_time": "2024-07-01T19:06:29.023678",
     "exception": false,
     "start_time": "2024-07-01T19:06:29.003638",
     "status": "completed"
    },
    "tags": []
   },
   "outputs": [
    {
     "name": "stdout",
     "output_type": "stream",
     "text": [
      "Units sold wrt Region\n",
      "Region\n",
      "Asia             2.9125\n",
      "Europe           1.3125\n",
      "North America    2.2500\n",
      "Name: Units Sold, dtype: float64\n",
      "\n",
      "Total Revenue wrt Region\n",
      "Region\n",
      "Asia             280.693125\n",
      "Europe           265.850750\n",
      "North America    460.554250\n",
      "Name: Total Revenue, dtype: float64\n"
     ]
    }
   ],
   "source": [
    "#How does the number of Units Sold vary with respect to the Region? \n",
    "x=df.groupby('Region')['Units Sold'].mean()\n",
    "print(\"Units sold wrt Region\")\n",
    "print(x)\n",
    "#How does the Total Revenue vary with respect to the Region? \n",
    "x=df.groupby('Region')['Total Revenue'].mean()\n",
    "print(\"\\nTotal Revenue wrt Region\")\n",
    "print(x)"
   ]
  },
  {
   "cell_type": "code",
   "execution_count": 13,
   "id": "f634c0e5",
   "metadata": {
    "execution": {
     "iopub.execute_input": "2024-07-01T19:06:29.038214Z",
     "iopub.status.busy": "2024-07-01T19:06:29.037878Z",
     "iopub.status.idle": "2024-07-01T19:06:29.048155Z",
     "shell.execute_reply": "2024-07-01T19:06:29.047091Z"
    },
    "papermill": {
     "duration": 0.020263,
     "end_time": "2024-07-01T19:06:29.050505",
     "exception": false,
     "start_time": "2024-07-01T19:06:29.030242",
     "status": "completed"
    },
    "tags": []
   },
   "outputs": [
    {
     "name": "stdout",
     "output_type": "stream",
     "text": [
      "Month\n",
      "1    1\n",
      "2    1\n",
      "3    1\n",
      "4    1\n",
      "5    1\n",
      "6    1\n",
      "7    1\n",
      "8    1\n",
      "Name: Units Sold, dtype: int64\n",
      "Month\n",
      "1     6\n",
      "2     6\n",
      "3    10\n",
      "4     6\n",
      "5     5\n",
      "6     5\n",
      "7     4\n",
      "8     4\n",
      "Name: Units Sold, dtype: int64\n"
     ]
    }
   ],
   "source": [
    "#Which month had the highest and lowest number of Sales?\n",
    "x = df.groupby('Month')\n",
    "print(x['Units Sold'].min())\n",
    "print(x['Units Sold'].max())"
   ]
  },
  {
   "cell_type": "code",
   "execution_count": 14,
   "id": "8241988a",
   "metadata": {
    "execution": {
     "iopub.execute_input": "2024-07-01T19:06:29.066019Z",
     "iopub.status.busy": "2024-07-01T19:06:29.065627Z",
     "iopub.status.idle": "2024-07-01T19:06:29.641985Z",
     "shell.execute_reply": "2024-07-01T19:06:29.640923Z"
    },
    "papermill": {
     "duration": 0.58707,
     "end_time": "2024-07-01T19:06:29.644437",
     "exception": false,
     "start_time": "2024-07-01T19:06:29.057367",
     "status": "completed"
    },
    "tags": []
   },
   "outputs": [
    {
     "data": {
      "text/plain": [
       "Text(0.5, 1.0, 'Units Sold vs Region')"
      ]
     },
     "execution_count": 14,
     "metadata": {},
     "output_type": "execute_result"
    },
    {
     "data": {
      "image/png": "[encoded data removed]",
      "text/plain": [
       "<Figure size 640x480 with 1 Axes>"
      ]
     },
     "metadata": {},
     "output_type": "display_data"
    }
   ],
   "source": [
    "#Units Sold vs Region\n",
    "plt.bar(df['Region'],df['Units Sold'])\n",
    "plt.xlabel(\"Regions\")\n",
    "plt.ylabel(\"No of Units Sold\")\n",
    "plt.title(\"Units Sold vs Region\")"
   ]
  },
  {
   "cell_type": "code",
   "execution_count": 15,
   "id": "b899a769",
   "metadata": {
    "execution": {
     "iopub.execute_input": "2024-07-01T19:06:29.660980Z",
     "iopub.status.busy": "2024-07-01T19:06:29.660094Z",
     "iopub.status.idle": "2024-07-01T19:06:29.945960Z",
     "shell.execute_reply": "2024-07-01T19:06:29.944916Z"
    },
    "papermill": {
     "duration": 0.296606,
     "end_time": "2024-07-01T19:06:29.948437",
     "exception": false,
     "start_time": "2024-07-01T19:06:29.651831",
     "status": "completed"
    },
    "tags": []
   },
   "outputs": [
    {
     "data": {
      "text/plain": [
       "Text(0.5, 1.0, 'Units Sold vs Month in 2024')"
      ]
     },
     "execution_count": 15,
     "metadata": {},
     "output_type": "execute_result"
    },
    {
     "data": {
      "image/png": "[encoded data removed]",
      "text/plain": [
       "<Figure size 640x480 with 1 Axes>"
      ]
     },
     "metadata": {},
     "output_type": "display_data"
    }
   ],
   "source": [
    "#Months vs Units Sold\n",
    "y=df.groupby('Month')['Units Sold'].sum()\n",
    "plt.plot(y.index,y.values)\n",
    "plt.xlabel(\"Month\")\n",
    "plt.ylabel(\"No of Units Sold\")\n",
    "plt.title(\"Units Sold vs Month in 2024\")"
   ]
  },
  {
   "cell_type": "code",
   "execution_count": 16,
   "id": "125bf371",
   "metadata": {
    "execution": {
     "iopub.execute_input": "2024-07-01T19:06:29.966724Z",
     "iopub.status.busy": "2024-07-01T19:06:29.965855Z",
     "iopub.status.idle": "2024-07-01T19:06:30.273884Z",
     "shell.execute_reply": "2024-07-01T19:06:30.272911Z"
    },
    "papermill": {
     "duration": 0.319365,
     "end_time": "2024-07-01T19:06:30.276123",
     "exception": false,
     "start_time": "2024-07-01T19:06:29.956758",
     "status": "completed"
    },
    "tags": []
   },
   "outputs": [
    {
     "data": {
      "text/plain": [
       "Text(0.5, 1.0, 'Total Revenue vs Month in 2024')"
      ]
     },
     "execution_count": 16,
     "metadata": {},
     "output_type": "execute_result"
    },
    {
     "data": {
      "image/png": "[encoded data removed]",
      "text/plain": [
       "<Figure size 640x480 with 1 Axes>"
      ]
     },
     "metadata": {},
     "output_type": "display_data"
    }
   ],
   "source": [
    "#Months vs Total Revenue\n",
    "y=df.groupby('Month')['Total Revenue'].sum()\n",
    "plt.plot(y.index,y.values)\n",
    "plt.xlabel(\"Month\")\n",
    "plt.ylabel(\"Total Revenue\")\n",
    "plt.title(\"Total Revenue vs Month in 2024\")"
   ]
  },
  {
   "cell_type": "code",
   "execution_count": 17,
   "id": "9b6cd5b4",
   "metadata": {
    "execution": {
     "iopub.execute_input": "2024-07-01T19:06:30.295340Z",
     "iopub.status.busy": "2024-07-01T19:06:30.294560Z",
     "iopub.status.idle": "2024-07-01T19:06:30.417185Z",
     "shell.execute_reply": "2024-07-01T19:06:30.415939Z"
    },
    "papermill": {
     "duration": 0.135503,
     "end_time": "2024-07-01T19:06:30.420299",
     "exception": false,
     "start_time": "2024-07-01T19:06:30.284796",
     "status": "completed"
    },
    "tags": []
   },
   "outputs": [
    {
     "data": {
      "text/plain": [
       "([<matplotlib.patches.Wedge at 0x7f4ac8bc8520>,\n",
       "  <matplotlib.patches.Wedge at 0x7f4ac8bc8400>,\n",
       "  <matplotlib.patches.Wedge at 0x7f4ac8bc8df0>],\n",
       " [Text(0.1727367704572014, 1.0863526168477786, 'Asia'),\n",
       "  Text(-1.0436605995874633, -0.3475234565734186, 'Europe'),\n",
       "  Text(0.5071014344460757, -0.9761394035601332, 'North America')])"
      ]
     },
     "execution_count": 17,
     "metadata": {},
     "output_type": "execute_result"
    },
    {
     "data": {
      "image/png": "[encoded data removed]",
      "text/plain": [
       "<Figure size 640x480 with 1 Axes>"
      ]
     },
     "metadata": {},
     "output_type": "display_data"
    }
   ],
   "source": [
    "#Overal Region wise sales\n",
    "x=df.groupby('Region')['Units Sold'].sum()\n",
    "plt.pie(x.values,labels=x.index)"
   ]
  },
  {
   "cell_type": "code",
   "execution_count": 18,
   "id": "1150192c",
   "metadata": {
    "execution": {
     "iopub.execute_input": "2024-07-01T19:06:30.452511Z",
     "iopub.status.busy": "2024-07-01T19:06:30.451048Z",
     "iopub.status.idle": "2024-07-01T19:06:30.768190Z",
     "shell.execute_reply": "2024-07-01T19:06:30.766921Z"
    },
    "papermill": {
     "duration": 0.335652,
     "end_time": "2024-07-01T19:06:30.770659",
     "exception": false,
     "start_time": "2024-07-01T19:06:30.435007",
     "status": "completed"
    },
    "tags": []
   },
   "outputs": [
    {
     "data": {
      "text/plain": [
       "<matplotlib.collections.PathCollection at 0x7f4ac8bf2e00>"
      ]
     },
     "execution_count": 18,
     "metadata": {},
     "output_type": "execute_result"
    },
    {
     "data": {
      "image/png": "[encoded data removed]",
      "text/plain": [
       "<Figure size 640x480 with 1 Axes>"
      ]
     },
     "metadata": {},
     "output_type": "display_data"
    }
   ],
   "source": [
    "plt.title(\"Scatter plot showing relation between unit price and units sold\")\n",
    "plt.xlabel(\"Units Sold\")\n",
    "plt.ylabel(\"Unit price\")\n",
    "plt.scatter(df['Units Sold'],df['Unit Price'])"
   ]
  },
  {
   "cell_type": "code",
   "execution_count": 19,
   "id": "c75c13d3",
   "metadata": {
    "execution": {
     "iopub.execute_input": "2024-07-01T19:06:30.792018Z",
     "iopub.status.busy": "2024-07-01T19:06:30.790823Z",
     "iopub.status.idle": "2024-07-01T19:06:32.095395Z",
     "shell.execute_reply": "2024-07-01T19:06:32.094190Z"
    },
    "papermill": {
     "duration": 1.317623,
     "end_time": "2024-07-01T19:06:32.097944",
     "exception": false,
     "start_time": "2024-07-01T19:06:30.780321",
     "status": "completed"
    },
    "tags": []
   },
   "outputs": [],
   "source": [
    "import seaborn as sns"
   ]
  },
  {
   "cell_type": "code",
   "execution_count": 20,
   "id": "23ed0d06",
   "metadata": {
    "execution": {
     "iopub.execute_input": "2024-07-01T19:06:32.118686Z",
     "iopub.status.busy": "2024-07-01T19:06:32.118309Z",
     "iopub.status.idle": "2024-07-01T19:06:32.538571Z",
     "shell.execute_reply": "2024-07-01T19:06:32.537389Z"
    },
    "papermill": {
     "duration": 0.433612,
     "end_time": "2024-07-01T19:06:32.541267",
     "exception": false,
     "start_time": "2024-07-01T19:06:32.107655",
     "status": "completed"
    },
    "tags": []
   },
   "outputs": [
    {
     "data": {
      "text/plain": [
       "Text(95.72222222222221, 0.5, 'Region')"
      ]
     },
     "execution_count": 20,
     "metadata": {},
     "output_type": "execute_result"
    },
    {
     "data": {
      "image/png": "[encoded data removed]",
      "text/plain": [
       "<Figure size 1000x800 with 2 Axes>"
      ]
     },
     "metadata": {},
     "output_type": "display_data"
    }
   ],
   "source": [
    "heatmap_data = df.pivot_table(index='Region', columns='Month', values='Total Revenue', aggfunc='sum')\n",
    "plt.figure(figsize=(10, 8))\n",
    "sns.heatmap(heatmap_data, annot=True, cmap='YlGnBu', fmt='.2f', linewidths=.5)\n",
    "plt.title('Total Revenue by Region and Month')\n",
    "plt.xlabel('Month')\n",
    "plt.ylabel('Region')"
   ]
  }
 ],
 "metadata": {
  "kaggle": {
   "accelerator": "none",
   "dataSources": [
    {
     "datasetId": 5085377,
     "sourceId": 8517615,
     "sourceType": "datasetVersion"
    }
   ],
   "dockerImageVersionId": 30732,
   "isGpuEnabled": false,
   "isInternetEnabled": false,
   "language": "python",
   "sourceType": "notebook"
  },
  "kernelspec": {
   "display_name": "Python 3",
   "language": "python",
   "name": "python3"
  },
  "language_info": {
   "codemirror_mode": {
    "name": "ipython",
    "version": 3
   },
   "file_extension": ".py",
   "mimetype": "text/x-python",
   "name": "python",
   "nbconvert_exporter": "python",
   "pygments_lexer": "ipython3",
   "version": "3.10.13"
  },
  "papermill": {
   "default_parameters": {},
   "duration": 7.966909,
   "end_time": "2024-07-01T19:06:33.172672",
   "environment_variables": {},
   "exception": null,
   "input_path": "__notebook__.ipynb",
   "output_path": "__notebook__.ipynb",
   "parameters": {},
   "start_time": "2024-07-01T19:06:25.205763",
   "version": "2.5.0"
  }
 },
 "nbformat": 4,
 "nbformat_minor": 5
}
